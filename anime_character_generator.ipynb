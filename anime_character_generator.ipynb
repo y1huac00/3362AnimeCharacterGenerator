{
 "cells": [
  {
   "cell_type": "code",
   "execution_count": null,
   "id": "1d59a507",
   "metadata": {},
   "outputs": [],
   "source": [
    "import os\n",
    "import pickle\n",
    "import numpy as np\n",
    "import PIL.Image\n",
    "import PIL.ImageSequence\n",
    "import sys\n",
    "sys.path.append(\"stylegan2\")\n",
    "import dnnlib\n",
    "import dnnlib.tflib as tflib\n",
    "import tensorflow as tf\n",
    "import copy\n",
    "from IPython.display import display, clear_output\n",
    "from ipywidgets import interact, interactive, fixed, interact_manual\n",
    "import ipywidgets as widgets"
   ]
  },
  {
   "cell_type": "code",
   "execution_count": 2,
   "id": "7755dce1",
   "metadata": {},
   "outputs": [
    {
     "name": "stdout",
     "output_type": "stream",
     "text": [
      "Setting up TensorFlow plugin \"fused_bias_act.cu\": Preprocessing... Loading... Done.\n",
      "Setting up TensorFlow plugin \"upfirdn_2d.cu\": Preprocessing... Loading... Done.\n"
     ]
    }
   ],
   "source": [
    "stylegan2model = \"./models/70knetwork-snapshot-002800.pkl\"\n",
    "\n",
    "tflib.init_tf()\n",
    "\n",
    "# Load pre-trained network.\n",
    "with open(stylegan2model, 'rb') as f:\n",
    "    _G, _D, Gs = pickle.load(f)"
   ]
  },
  {
   "cell_type": "code",
   "execution_count": 11,
   "id": "8a74d006",
   "metadata": {},
   "outputs": [],
   "source": [
    "def truncate(dlatents, truncation_psi, maxlayer = 10):\n",
    "    dlatent_avg = tf.get_default_session().run(Gs.own_vars[\"dlatent_avg\"])\n",
    "    layer_idx = np.arange(10)[np.newaxis, :, np.newaxis]\n",
    "    ones = np.ones(layer_idx.shape, dtype=np.float32)\n",
    "    coefs = tf.where(layer_idx < maxlayer, truncation_psi * ones, ones)\n",
    "    return tf.get_default_session().run(tflib.lerp(dlatent_avg, dlatents, coefs))\n",
    "\n",
    "# Generate image with disentangled latents as input\n",
    "def generate_images_from_dlatents(dlatents, truncation_psi = 1.0, randomize_noise = True):\n",
    "    if not truncation_psi is None:\n",
    "        dlatents_trunc = truncate(dlatents, truncation_psi)\n",
    "    else:\n",
    "        dlatents_trunc = dlatents\n",
    "        \n",
    "    # Run the network\n",
    "    fmt = dict(func=tflib.convert_images_to_uint8, nchw_to_nhwc=True)\n",
    "    result_image = Gs.components.synthesis.run(\n",
    "        dlatents_trunc.reshape((-1, 10, 512)),\n",
    "        randomize_noise = randomize_noise,\n",
    "        minibatch_size = 1,\n",
    "        output_transform=fmt\n",
    "    )[0]\n",
    "    return result_image\n",
    "\n",
    "# Init randomizer, load latents\n",
    "rnd = np.random\n",
    "latents_a = rnd.randn(1, Gs.input_shape[1])\n",
    "latents_b = rnd.randn(1, Gs.input_shape[1])\n",
    "latents_c = rnd.randn(1, Gs.input_shape[1])\n",
    "\n",
    "tag_directions = {}\n",
    "with open(\"tagged_dlatents/tag_dirs_cont1.pkl\", 'rb') as f:\n",
    "    tag_directions = pickle.load(f)"
   ]
  },
  {
   "cell_type": "code",
   "execution_count": 12,
   "id": "4e669aa2",
   "metadata": {},
   "outputs": [],
   "source": [
    "##\n",
    "# UI\n",
    "##\n",
    "hair_eyes_only = False\n",
    "    \n",
    "tag_len = {}\n",
    "for tag in tag_directions:\n",
    "    tag_len[tag] = np.linalg.norm(tag_directions[tag].flatten())\n",
    "\n",
    "mod_latents = copy.deepcopy(latents_a)\n",
    "dlatents_gen = Gs.components.mapping.run(mod_latents, None)[0]  \n",
    "def modify_and_sample(psi_pre, psi_post, truncate_pre, truncate_post, **kwargs):\n",
    "    if truncate_pre == True:\n",
    "        dlatents_mod = truncate(copy.deepcopy(dlatents_gen), psi_pre)\n",
    "    else:\n",
    "        dlatents_mod = copy.deepcopy(dlatents_gen)\n",
    "        \n",
    "    for tag in kwargs:\n",
    "        dlatents_mod += tag_directions[tag] * kwargs[tag]  / tag_len[tag] * 25.0\n",
    "    value_widgets[\"psi_pre\"].value = str(round(psi_pre, 2))\n",
    "    value_widgets[\"psi_post\"].value = str(round(psi_post, 2))\n",
    "    \n",
    "    for tag in kwargs:\n",
    "        tag_value = round((np.dot(dlatents_mod.flatten(), tag_directions[tag].flatten()) / tag_len[tag]), 2)\n",
    "        value_widgets[tag].value = str(kwargs[tag]) + \" | \" + str(tag_value)\n",
    "    \n",
    "    display_psi = None\n",
    "    if truncate_post == True:\n",
    "        display_psi = psi_post\n",
    "    display(PIL.Image.fromarray(generate_images_from_dlatents(dlatents_mod, truncation_psi = display_psi), 'RGB').resize(size=(128, 128)))\n",
    "\n",
    "psi_slider = widgets.FloatSlider(min = 0.0, max = 1.0, step = 0.01, value = 0.60, continuous_update = False, readout = False)\n",
    "psi_slider_post = widgets.FloatSlider(min = 0.0, max = 1.0, step = 0.01, value = 0.60, continuous_update = False, readout = False)\n",
    "if hair_eyes_only:\n",
    "    modify_tags = [tag for tag in tag_directions if \"_hair\" in tag or \"_eyes\" in tag or \"_mouth\" in tag]\n",
    "else:\n",
    "    with open(\"tagged_dlatents/tags_use1.pkl\", \"rb\") as f:\n",
    "        modify_tags = pickle.load(f)\n",
    "\n",
    "tag_widgets = {}\n",
    "for tag in modify_tags:\n",
    "    tag_widgets[tag] = widgets.FloatSlider(min = -2.0, max = 6.0, step = 0.005, continuous_update = False, readout = False)\n",
    "all_widgets = []\n",
    "\n",
    "sorted_widgets = sorted(tag_widgets.items(), key = lambda x: x[0])\n",
    "sorted_widgets = [(\"psi_pre\", psi_slider), (\"psi_post\", psi_slider_post)] + sorted_widgets\n",
    "value_widgets = {}\n",
    "for widget in sorted_widgets:\n",
    "    label_widget = widgets.Label(widget[0])\n",
    "    label_widget.layout.width = \"170px\"\n",
    "    \n",
    "    value_widget = widgets.Label(\"0.0+100.0\")\n",
    "    value_widget.layout.width = \"150px\"\n",
    "    value_widgets[widget[0]] = value_widget\n",
    "    \n",
    "    tag_hbox = widgets.HBox([label_widget, widget[1], value_widget])\n",
    "    tag_hbox.layout.width = \"320px\"\n",
    "    \n",
    "    all_widgets.append(tag_hbox)\n",
    "\n",
    "refresh = widgets.Button(description=\"New Sample\")\n",
    "modify = widgets.Button(description=\"Mutate\")\n",
    "reset_sliders = widgets.Button(description=\"Reset\")\n",
    "dlatent_encode = widgets.Button(description=\"Project input.png\")\n",
    "\n",
    "def new_sample(b):\n",
    "    global mod_latents\n",
    "    global dlatents_gen\n",
    "    mod_latents = np.random.randn(1, Gs.input_shape[1])\n",
    "    dlatents_gen = Gs.components.mapping.run(mod_latents, None)[0]  \n",
    "    if psi_slider.value != 1.0:\n",
    "        psi_slider.value += 0.00000000001\n",
    "    else:\n",
    "        psi_slider.value -= 0.00000000001\n",
    "    \n",
    "def mutate(b):\n",
    "    global dlatents_gen\n",
    "    mod_dlatents_add = np.random.randn(10, 512)\n",
    "    dlatents_gen += mod_dlatents_add * 0.1\n",
    "    if psi_slider.value != 1.0:\n",
    "        psi_slider.value += 0.00000000001\n",
    "    else:\n",
    "        psi_slider.value -= 0.00000000001\n",
    "\n",
    "def reset(b):\n",
    "    for widget in tag_widgets:\n",
    "        if not widget in [\"truncate_pre\", \"truncate_post\", \"psi_pre\", \"psi_post\"]:\n",
    "            tag_widgets[widget].value = 0.0\n",
    "\n",
    "def encode(b):\n",
    "    global dlatents_gen\n",
    "    image = PIL.Image.open(\"input.png\")\n",
    "    dlatents_gen = encode_image(image, encode_iters.value)\n",
    "    if psi_slider.value != 1.0:\n",
    "        psi_slider.value += 0.00000000001\n",
    "    else:\n",
    "        psi_slider.value -= 0.00000000001\n",
    "            \n",
    "truncate_pre = widgets.ToggleButton(value=True, description='Truncate Pre')\n",
    "truncate_post = widgets.ToggleButton(value=True, description='Truncate Post')\n",
    "refresh.on_click(new_sample)\n",
    "modify.on_click(mutate)\n",
    "reset_sliders.on_click(reset)\n",
    "dlatent_encode.on_click(encode)\n",
    "\n",
    "encode_iters = widgets.IntSlider(min = 10, max = 2000, step = 1, value=200, continuous_update = False, readout = True)\n",
    "\n",
    "ui = widgets.Box(all_widgets + [refresh, modify, reset_sliders, truncate_pre, truncate_post, dlatent_encode, widgets.Label(\"Iterations\"), encode_iters])\n",
    "tag_widgets[\"psi_pre\"] = psi_slider\n",
    "tag_widgets[\"psi_post\"] = psi_slider_post\n",
    "\n",
    "ui.layout.flex_flow = 'row wrap'\n",
    "ui.layout.display = 'inline-flex'\n",
    "tag_widgets[\"truncate_pre\"] = truncate_pre\n",
    "tag_widgets[\"truncate_post\"] = truncate_post\n",
    "\n",
    "out = widgets.interactive_output(modify_and_sample, tag_widgets)"
   ]
  },
  {
   "cell_type": "code",
   "execution_count": 13,
   "id": "d69fcb88",
   "metadata": {},
   "outputs": [
    {
     "data": {
      "application/vnd.jupyter.widget-view+json": {
       "model_id": "dc8615da55314ab3921215bfc81af2e9",
       "version_major": 2,
       "version_minor": 0
      },
      "text/plain": [
       "Box(children=(HBox(children=(Label(value='psi_pre', layout=Layout(width='170px')), FloatSlider(value=0.6, cont…"
      ]
     },
     "metadata": {},
     "output_type": "display_data"
    },
    {
     "data": {
      "application/vnd.jupyter.widget-view+json": {
       "model_id": "a37dd5a380ba4f0ca1493f8b0af71a0a",
       "version_major": 2,
       "version_minor": 0
      },
      "text/plain": [
       "Output(outputs=({'output_type': 'display_data', 'data': {'text/plain': '<PIL.Image.Image image mode=RGB size=1…"
      ]
     },
     "metadata": {},
     "output_type": "display_data"
    }
   ],
   "source": [
    "display(ui, out)"
   ]
  }
 ],
 "metadata": {
  "kernelspec": {
   "display_name": "Python 3",
   "language": "python",
   "name": "python3"
  },
  "language_info": {
   "codemirror_mode": {
    "name": "ipython",
    "version": 3
   },
   "file_extension": ".py",
   "mimetype": "text/x-python",
   "name": "python",
   "nbconvert_exporter": "python",
   "pygments_lexer": "ipython3",
   "version": "3.6.10"
  }
 },
 "nbformat": 4,
 "nbformat_minor": 5
}
